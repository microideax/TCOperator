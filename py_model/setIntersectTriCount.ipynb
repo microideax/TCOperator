{
 "cells": [
  {
   "cell_type": "code",
   "execution_count": 1,
   "id": "94325316",
   "metadata": {},
   "outputs": [],
   "source": [
    "import networkx as nx\n",
    "import numpy as np\n",
    "import pandas as pd\n",
    "from scipy import sparse\n",
    "from scipy.sparse import csr_matrix\n",
    "from scipy.sparse import coo_matrix\n",
    "from time import perf_counter"
   ]
  },
  {
   "cell_type": "code",
   "execution_count": 2,
   "id": "eac02d4b",
   "metadata": {},
   "outputs": [],
   "source": [
    "filename = './datasets/partitionTest.txt'"
   ]
  },
  {
   "cell_type": "code",
   "execution_count": 3,
   "id": "f829c86a",
   "metadata": {},
   "outputs": [],
   "source": [
    "t0 = perf_counter()\n",
    "testgraph = nx.read_edgelist(filename, comments='#', delimiter=None, create_using=None, nodetype=None, data=True, edgetype=None, encoding='utf-8')\n",
    "t_load = perf_counter() - t0"
   ]
  },
  {
   "cell_type": "code",
   "execution_count": 4,
   "id": "1f2c66a2",
   "metadata": {},
   "outputs": [],
   "source": [
    "def triCount(graph):\n",
    "    count = 0\n",
    "    triangle = []\n",
    "    for srcId, nbrs in graph.adjacency():\n",
    "        srcSet = graph.adj[srcId]\n",
    "#         print(srcSet, '\\n')\n",
    "        for destId in srcSet:\n",
    "            if (destId > srcId):\n",
    "#                 destSet = nx.all_neighbors(graph, destId)\n",
    "                destSet = graph.adj[destId]\n",
    "                for vertexId in destSet:\n",
    "                    if (vertexId in srcSet) and (vertexId > destId):\n",
    "                        count += 1\n",
    "                        triangle.append((srcId, destId, vertexId))\n",
    "#         print(\"=================================================\")\n",
    "#     print(\"Triangle Count: \", count)\n",
    "#     print(triangle)\n",
    "    return count, triangle"
   ]
  },
  {
   "cell_type": "code",
   "execution_count": 5,
   "id": "db72ef09",
   "metadata": {},
   "outputs": [],
   "source": [
    "t1 = perf_counter()\n",
    "triCount, trianlges = triCount(testgraph)\n",
    "t_proc = perf_counter() - t1"
   ]
  },
  {
   "cell_type": "code",
   "execution_count": 6,
   "id": "c2bd6809",
   "metadata": {},
   "outputs": [
    {
     "name": "stdout",
     "output_type": "stream",
     "text": [
      "num triangles:  3\n",
      "Load file time:  0.0015973346307873726\n",
      "Processing time:  0.00010864157229661942\n"
     ]
    }
   ],
   "source": [
    "print('num triangles: ', triCount)\n",
    "print(\"Load file time: \", t_load)\n",
    "print(\"Processing time: \", t_proc)\n",
    "# print(\"Counted Triangles: \\n\", trianlges)"
   ]
  },
  {
   "cell_type": "code",
   "execution_count": null,
   "id": "6302f1c0",
   "metadata": {},
   "outputs": [],
   "source": [
    "len(list(testgraph.nodes()))"
   ]
  },
  {
   "cell_type": "code",
   "execution_count": null,
   "id": "c0f1864d",
   "metadata": {},
   "outputs": [],
   "source": [
    "print(len(list(nx.selfloop_edges(testgraph))))"
   ]
  },
  {
   "cell_type": "code",
   "execution_count": null,
   "id": "27eb8b09",
   "metadata": {},
   "outputs": [],
   "source": [
    "part_1_graph = nx.DiGraph()\n",
    "for edges in testgraph.edges:\n",
    "#     print(edges[1])\n",
    "    if int(edges[1]) < 2000:\n",
    "        part_1_graph.add_edge(*edges)"
   ]
  },
  {
   "cell_type": "code",
   "execution_count": null,
   "id": "a2b17c82",
   "metadata": {},
   "outputs": [],
   "source": [
    "part_2_graph = nx.DiGraph()\n",
    "for edges in testgraph.edges:\n",
    "    if int(edges[1]) >= 2000:\n",
    "        part_2_graph.add_edge(*edges)"
   ]
  },
  {
   "cell_type": "code",
   "execution_count": null,
   "id": "22b59bf1",
   "metadata": {},
   "outputs": [],
   "source": [
    "part_1_adj = nx.adjacency_matrix(part_1_graph)\n",
    "print(part_1_adj.shape)"
   ]
  },
  {
   "cell_type": "code",
   "execution_count": null,
   "id": "a48abb36",
   "metadata": {},
   "outputs": [],
   "source": [
    "part_2_adj = nx.adjacency_matrix(part_2_graph)\n",
    "print(part_2_adj.shape)"
   ]
  },
  {
   "cell_type": "code",
   "execution_count": null,
   "id": "88d5085b",
   "metadata": {},
   "outputs": [],
   "source": [
    "print(len(list(part_1_graph.nodes())))\n",
    "print(len(list(part_2_graph.nodes())))"
   ]
  },
  {
   "cell_type": "code",
   "execution_count": null,
   "id": "5d636ee8",
   "metadata": {},
   "outputs": [],
   "source": [
    "count = 0\n",
    "triangle = []\n",
    "for edge_list in testgraph.edges:\n",
    "#     if int(edge_list[1]) < 2000:\n",
    "    srcSet = part_1_graph.adj[int(edge_list[0])]\n",
    "    dstSet = part_1_graph.adj[int(edge_list[1])]\n",
    "    for vertexID in dstSet:\n",
    "        if (vertexID in srcSet): # and (vertexID > int(edge_list[1])):\n",
    "            count += 1\n",
    "            triangle.append((edge_list[0], edge_list[1], vertexID))\n",
    "print(\"part_1 triangles: \", count)                                "
   ]
  },
  {
   "cell_type": "code",
   "execution_count": null,
   "id": "e81ba363",
   "metadata": {},
   "outputs": [],
   "source": [
    "count_1 = 0\n",
    "triangle_1 = []\n",
    "for edge_list in testgraph.edges:\n",
    "#     if int(edge_list[1]) >= 2000:\n",
    "    srcSet = part_2_graph.adj[int(edge_list[0])]\n",
    "    dstSet = part_2_graph.adj[int(edge_list[1])]\n",
    "    for vertexID in dstSet:\n",
    "        if (vertexID in srcSet): # and (vertexID > int(edge_list[1])):\n",
    "            count_1 += 1\n",
    "            triangle_1.append((edge_list[0], edge_list[1], vertexID))\n",
    "print(\"part_2 triangles: \", count_1)\n",
    "print(\"Triangles in total:\", count + count_1)"
   ]
  },
  {
   "cell_type": "code",
   "execution_count": null,
   "id": "a03a8c69",
   "metadata": {},
   "outputs": [],
   "source": [
    "count_2 = 0\n",
    "triangle_2 = []\n",
    "for edge_list in testgraph.edges:\n",
    "#     if int(edge_list[1]) >= 2000:\n",
    "    srcSet = part_1_graph.adj[int(edge_list[0])]\n",
    "    dstSet = part_2_graph.adj[int(edge_list[1])]\n",
    "    for vertexID in dstSet:\n",
    "        if (vertexID in srcSet): # and (vertexID > int(edge_list[1])):\n",
    "            count_2 += 1\n",
    "            triangle_2.append((edge_list[0], edge_list[1], vertexID))\n",
    "print(\"part_2 triangles: \", count_2)\n",
    "print(\"Triangles in total:\", count + count_1 + count_2)"
   ]
  },
  {
   "cell_type": "code",
   "execution_count": null,
   "id": "7d695b71",
   "metadata": {},
   "outputs": [],
   "source": [
    "tri_graph_2 = nx.intersection(part_2_graph, testgraph)\n",
    "print(len(list(tri_graph_2.nodes())))"
   ]
  },
  {
   "cell_type": "code",
   "execution_count": null,
   "id": "8e1705b3",
   "metadata": {},
   "outputs": [],
   "source": [
    "number_of_tri_p1 = sum(nx.triangles(part_1_graph).values())/3\n",
    "print(number_of_tri_p1)"
   ]
  },
  {
   "cell_type": "code",
   "execution_count": null,
   "id": "91413635",
   "metadata": {},
   "outputs": [],
   "source": [
    "number_of_tri_p2 = sum(nx.triangles(part_2_graph).values())/3\n",
    "print(number_of_tri_p2)"
   ]
  },
  {
   "cell_type": "code",
   "execution_count": null,
   "id": "d00a933e",
   "metadata": {},
   "outputs": [],
   "source": [
    "print(number_of_tri_p1 + number_of_tri_p2)"
   ]
  },
  {
   "cell_type": "code",
   "execution_count": null,
   "id": "a2e6a9f1",
   "metadata": {},
   "outputs": [],
   "source": [
    "print(sum(nx.triangles(testgraph).values())/3)"
   ]
  },
  {
   "cell_type": "raw",
   "id": "d74f1bc9",
   "metadata": {},
   "source": [
    "# cit-Patents.txt\n",
    "# num triangles:  7515023\n",
    "# Load file time:  64.85925229731947\n",
    "# Processing time:  179.24616279965267"
   ]
  },
  {
   "cell_type": "raw",
   "id": "6f070cd4",
   "metadata": {},
   "source": [
    "soc-LiveJournal1.txt\n",
    "num triangles:  285730264\n",
    "Load file time:  214.33697667811066\n",
    "Processing time:  3310.295435674023"
   ]
  },
  {
   "cell_type": "raw",
   "id": "fb7ff3cd",
   "metadata": {},
   "source": [
    "as-skitter.txt\n",
    "num triangles:  28769868\n",
    "Load file time:  31.616216123104095\n",
    "Processing time:  10299.806696090382"
   ]
  }
 ],
 "metadata": {
  "kernelspec": {
   "display_name": "Python 3 (ipykernel)",
   "language": "python",
   "name": "python3"
  },
  "language_info": {
   "codemirror_mode": {
    "name": "ipython",
    "version": 3
   },
   "file_extension": ".py",
   "mimetype": "text/x-python",
   "name": "python",
   "nbconvert_exporter": "python",
   "pygments_lexer": "ipython3",
   "version": "3.8.15"
  }
 },
 "nbformat": 4,
 "nbformat_minor": 5
}
