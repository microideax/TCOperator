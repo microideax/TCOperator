{
 "cells": [
  {
   "cell_type": "code",
   "execution_count": 1,
   "id": "49170f47",
   "metadata": {},
   "outputs": [],
   "source": [
    "import snap\n",
    "import pandas as pd\n",
    "import numpy as np\n",
    "from time import perf_counter\n",
    "\n",
    "# from formatConvertion import *"
   ]
  },
  {
   "cell_type": "markdown",
   "id": "aeb4dc3f",
   "metadata": {},
   "source": [
    "# test dataset"
   ]
  },
  {
   "cell_type": "code",
   "execution_count": 2,
   "id": "5a920a9f",
   "metadata": {},
   "outputs": [
    {
     "name": "stdout",
     "output_type": "stream",
     "text": [
      "38\n"
     ]
    }
   ],
   "source": [
    "g1 = snap.LoadEdgeList(snap.TUNGraph, \"./acc_impl/dataset/test_edge.txt\", 0, 1)\n",
    "test_triads = g1.GetTriads()\n",
    "print(test_triads)"
   ]
  },
  {
   "cell_type": "markdown",
   "id": "c60b54ff",
   "metadata": {},
   "source": [
    "# amazon0601"
   ]
  },
  {
   "cell_type": "code",
   "execution_count": null,
   "id": "4678e276",
   "metadata": {},
   "outputs": [],
   "source": []
  },
  {
   "cell_type": "code",
   "execution_count": 2,
   "id": "6634631d",
   "metadata": {},
   "outputs": [],
   "source": [
    "tr0 = perf_counter()\n",
    "g1 = snap.LoadEdgeList(snap.TUNGraph, \"./acc_impl/dataset/amazon0601_edge.txt\", 0, 1)\n",
    "citPat_readtime = perf_counter() - tr0"
   ]
  },
  {
   "cell_type": "code",
   "execution_count": 3,
   "id": "ba46dd97",
   "metadata": {},
   "outputs": [
    {
     "name": "stdout",
     "output_type": "stream",
     "text": [
      "403394\n"
     ]
    }
   ],
   "source": [
    "print(g1.GetNodes())"
   ]
  },
  {
   "cell_type": "code",
   "execution_count": 4,
   "id": "57fc6d74",
   "metadata": {},
   "outputs": [
    {
     "name": "stdout",
     "output_type": "stream",
     "text": [
      "2443408\n"
     ]
    }
   ],
   "source": [
    "print(g1.GetEdges())"
   ]
  },
  {
   "cell_type": "code",
   "execution_count": 5,
   "id": "13dcfec4",
   "metadata": {},
   "outputs": [
    {
     "name": "stdout",
     "output_type": "stream",
     "text": [
      "3986507\n",
      "Edge list readin time:  1.3530550330033293 seconds\n",
      "Triangle counting time:  2.7425718620070256 seconds\n"
     ]
    }
   ],
   "source": [
    "tt0 = perf_counter()\n",
    "citPatents_triads = g1.GetTriads()\n",
    "citPat_triads_time = perf_counter() - tt0\n",
    "print(citPatents_triads)\n",
    "print(\"Edge list readin time: \", citPat_readtime, \"seconds\")\n",
    "print(\"Triangle counting time: \", citPat_triads_time, \"seconds\")"
   ]
  },
  {
   "cell_type": "markdown",
   "id": "60b04446",
   "metadata": {},
   "source": [
    "# amazon0302"
   ]
  },
  {
   "cell_type": "code",
   "execution_count": 6,
   "id": "2f9800a4",
   "metadata": {},
   "outputs": [],
   "source": [
    "tr0 = perf_counter()\n",
    "g1 = snap.LoadEdgeList(snap.TUNGraph, \"./acc_impl/dataset/amazon0302_edge.txt\", 0, 1)\n",
    "citPat_readtime = perf_counter() - tr0"
   ]
  },
  {
   "cell_type": "code",
   "execution_count": 7,
   "id": "25567423",
   "metadata": {},
   "outputs": [
    {
     "name": "stdout",
     "output_type": "stream",
     "text": [
      "717719\n",
      "Edge list readin time:  0.6271645710075973 seconds\n",
      "Triangle counting time:  0.6746192470018286 seconds\n"
     ]
    }
   ],
   "source": [
    "tt0 = perf_counter()\n",
    "citPatents_triads = g1.GetTriads()\n",
    "citPat_triads_time = perf_counter() - tt0\n",
    "print(citPatents_triads)\n",
    "print(\"Edge list readin time: \", citPat_readtime, \"seconds\")\n",
    "print(\"Triangle counting time: \", citPat_triads_time, \"seconds\")"
   ]
  },
  {
   "cell_type": "markdown",
   "id": "4bed0657-0df7-47d7-8dc7-639ee25259d7",
   "metadata": {},
   "source": [
    "# cite-Patents dataset\n",
    "\n",
    "Triangles:  7515023\n",
    "Edge list readin time:  22.614711405243725 seconds\n",
    "Triangle counting time:  34.74610776593909 seconds"
   ]
  },
  {
   "cell_type": "code",
   "execution_count": 2,
   "id": "3b8901fd",
   "metadata": {},
   "outputs": [],
   "source": [
    "tr0 = perf_counter()\n",
    "g1 = snap.LoadEdgeList(snap.TUNGraph, \"./datasets/as20000102.txt\", 0, 1)\n",
    "citPat_readtime = perf_counter() - tr0"
   ]
  },
  {
   "cell_type": "code",
   "execution_count": 3,
   "id": "4df9161d",
   "metadata": {},
   "outputs": [
    {
     "name": "stdout",
     "output_type": "stream",
     "text": [
      "6474\n"
     ]
    }
   ],
   "source": [
    "print(g1.GetNodes())"
   ]
  },
  {
   "cell_type": "code",
   "execution_count": 4,
   "id": "8918e269",
   "metadata": {},
   "outputs": [
    {
     "name": "stdout",
     "output_type": "stream",
     "text": [
      "13895\n"
     ]
    }
   ],
   "source": [
    "print(g1.GetEdges())"
   ]
  },
  {
   "cell_type": "code",
   "execution_count": 5,
   "id": "5b3625ec-eba5-41cc-9912-70806d375a62",
   "metadata": {},
   "outputs": [],
   "source": [
    "tt0 = perf_counter()\n",
    "citPatents_triads = g1.GetTriads()\n",
    "citPat_triads_time = perf_counter() - tt0"
   ]
  },
  {
   "cell_type": "code",
   "execution_count": 6,
   "id": "806965a2-5bc1-408f-909a-c16dbfa1a306",
   "metadata": {
    "tags": []
   },
   "outputs": [
    {
     "name": "stdout",
     "output_type": "stream",
     "text": [
      "11454\n",
      "Edge list readin time:  0.01077213604003191 seconds\n",
      "Triangle counting time:  0.02308770315721631 seconds\n"
     ]
    }
   ],
   "source": [
    "print(citPatents_triads)\n",
    "print(\"Edge list readin time: \", citPat_readtime, \"seconds\")\n",
    "print(\"Triangle counting time: \", citPat_triads_time, \"seconds\")"
   ]
  },
  {
   "cell_type": "code",
   "execution_count": null,
   "id": "b483dd6e-0e5a-42ba-b118-7d5a1bba26ee",
   "metadata": {},
   "outputs": [],
   "source": [
    "citpattung = g1.ConvertGraph(snap.TUNGraph)\n",
    "citpattung.SaveEdgeList(\"cit-Pat-edgelist.txt\", \"Save as tab seperate edge list\")"
   ]
  },
  {
   "cell_type": "markdown",
   "id": "baa90c13-bb9e-4a1d-892e-d6cd3cf2c0f1",
   "metadata": {},
   "source": [
    "# as-skitter\n",
    "Triangles: 28769868\n",
    "Edge list readin time:  8.026937555056065 seconds\n",
    "Triangle counting time:  293.2976703629829 seconds"
   ]
  },
  {
   "cell_type": "code",
   "execution_count": null,
   "id": "cbd684ca-086b-4698-9071-6ae825715ffe",
   "metadata": {},
   "outputs": [],
   "source": [
    "tr1 = perf_counter()\n",
    "asskitter = snap.LoadEdgeList(snap.TUNGraph, \"./datasets/as-skitter.txt\", 0, 1)\n",
    "asskitter_readtime = perf_counter() - tr1"
   ]
  },
  {
   "cell_type": "code",
   "execution_count": null,
   "id": "73733571-82dd-44ca-8b1e-b05308320e94",
   "metadata": {},
   "outputs": [],
   "source": [
    "tt1 = perf_counter()\n",
    "citPatents_triads = asskitter.GetTriads()\n",
    "asskitter_triads_time = perf_counter() - tt1"
   ]
  },
  {
   "cell_type": "code",
   "execution_count": null,
   "id": "c5ce0239-b0df-4e84-b86d-5c9c6fa8cbfc",
   "metadata": {},
   "outputs": [],
   "source": [
    "print(citPatents_triads)\n",
    "print(\"Edge list readin time: \", asskitter_readtime, \"seconds\")\n",
    "print(\"Triangle counting time: \", asskitter_triads_time, \"seconds\")"
   ]
  },
  {
   "cell_type": "code",
   "execution_count": null,
   "id": "78b93a3a-d4d6-4342-bfd5-952bcf9e4cd1",
   "metadata": {},
   "outputs": [],
   "source": []
  },
  {
   "cell_type": "markdown",
   "id": "1b8d1410-bc87-4467-bf92-75f92828811d",
   "metadata": {},
   "source": [
    "# soc-livejournal1 --> directed\n",
    "Triangles: 285730264\n",
    "Edge list readin time:  57.10093080298975 seconds\n",
    "Triangle counting time:  233.90806209109724 seconds"
   ]
  },
  {
   "cell_type": "code",
   "execution_count": null,
   "id": "64f8f2cc-2058-445f-91a5-83600df8419a",
   "metadata": {},
   "outputs": [],
   "source": [
    "# read file from disk\n",
    "tr2 = perf_counter()\n",
    "soclj = snap.LoadEdgeList(snap.TNGraph, \"./datasets/soc-LiveJournal1.txt\", 0, 1)\n",
    "soclj_readtime = perf_counter() - tr2"
   ]
  },
  {
   "cell_type": "code",
   "execution_count": null,
   "id": "87a846d2-568b-4ff0-a1db-9f024ae4bc01",
   "metadata": {},
   "outputs": [],
   "source": [
    "# triangle counting\n",
    "tt2 = perf_counter()\n",
    "soclj_triads = soclj.GetTriads()\n",
    "soclj_triads_time = perf_counter() - tt2"
   ]
  },
  {
   "cell_type": "code",
   "execution_count": null,
   "id": "a4064c2e-0ab5-4c0e-afe1-fc1133423004",
   "metadata": {},
   "outputs": [],
   "source": [
    "# print results\n",
    "print(soclj_triads)\n",
    "print(\"Edge list readin time: \", soclj_readtime, \"seconds\")\n",
    "print(\"Triangle counting time: \", soclj_triads_time, \"seconds\")"
   ]
  },
  {
   "cell_type": "code",
   "execution_count": null,
   "id": "efe8caa0-f7f0-4d6a-afc4-1cd777267bbe",
   "metadata": {},
   "outputs": [],
   "source": []
  },
  {
   "cell_type": "markdown",
   "id": "262747ab-1043-4b53-ba8d-8b78baa197af",
   "metadata": {},
   "source": [
    "# as20000102 "
   ]
  },
  {
   "cell_type": "code",
   "execution_count": null,
   "id": "31a4c830-5137-447a-b0e5-287775a5583f",
   "metadata": {},
   "outputs": [],
   "source": [
    "t3 = perf_counter()\n",
    "g2 = snap.LoadEdgeList(snap.TNGraph, \"./datasets/as20000102.txt\", 0, 1) \n",
    "t_read = perf_counter() - t3"
   ]
  },
  {
   "cell_type": "code",
   "execution_count": null,
   "id": "e98e859e-e500-4253-a82f-d0643b4b4525",
   "metadata": {},
   "outputs": [],
   "source": [
    "t4 = perf_counter()\n",
    "triads = g2.GetTriads()\n",
    "t_pro = perf_counter() - t4"
   ]
  },
  {
   "cell_type": "code",
   "execution_count": null,
   "id": "21882adf-e169-4b21-8c41-99ba5a2ff8ec",
   "metadata": {},
   "outputs": [],
   "source": [
    "print(triads)\n",
    "print('read file time: ', t_read)\n",
    "print('process time: ', t_pro)"
   ]
  },
  {
   "cell_type": "code",
   "execution_count": null,
   "id": "44eb129b-20a7-4dbd-94fc-ea2052bab738",
   "metadata": {},
   "outputs": [],
   "source": []
  },
  {
   "cell_type": "markdown",
   "id": "72f1fa6f-4fa5-4efd-aec2-e94bceb602e0",
   "metadata": {},
   "source": [
    "# facebook_combined"
   ]
  },
  {
   "cell_type": "code",
   "execution_count": null,
   "id": "6151ed40-e877-4643-b39a-829b9647672e",
   "metadata": {},
   "outputs": [],
   "source": [
    "t_f_0 = perf_counter()\n",
    "g3 = snap.LoadEdgeList(snap.TUNGraph, \"facebook_combined.txt\", 0, 1)\n",
    "t_f_loadtime = perf_counter() - t_f_0"
   ]
  },
  {
   "cell_type": "code",
   "execution_count": null,
   "id": "d0613fb8-557a-4165-99ad-22e249736a5d",
   "metadata": {},
   "outputs": [],
   "source": [
    "t_f_1 = perf_counter()\n",
    "triads_fb = g3.GetTriads()\n",
    "\n",
    "print(triads_fb)"
   ]
  },
  {
   "cell_type": "code",
   "execution_count": null,
   "id": "3c612bf1-5890-42d0-98ea-f6df7ad01bff",
   "metadata": {},
   "outputs": [],
   "source": [
    "road_net = snap.LoadEdgeList(snap.TUNGraph, \"roadNet-CA.txt\", 0, 1)"
   ]
  },
  {
   "cell_type": "code",
   "execution_count": null,
   "id": "f409b72d-d9c3-48f0-8267-9fc1cf1d4838",
   "metadata": {},
   "outputs": [],
   "source": [
    "from time import perf_counter"
   ]
  },
  {
   "cell_type": "code",
   "execution_count": null,
   "id": "287c096b-cefe-43c9-adcd-1634f9f95f58",
   "metadata": {},
   "outputs": [],
   "source": [
    "t0 = perf_counter()\n",
    "roadNet_triads = road_net.GetTriads()\n",
    "t_triads_time = perf_counter() - t0\n",
    "print(\"Triangle counting time: \", t_triads_time, \"seconds\")"
   ]
  },
  {
   "cell_type": "code",
   "execution_count": null,
   "id": "8240746c-d22f-40e8-bc83-b528e8ce651a",
   "metadata": {},
   "outputs": [],
   "source": [
    "print(roadNet_triads)"
   ]
  },
  {
   "cell_type": "code",
   "execution_count": null,
   "id": "ab61a6e3-63ae-422f-a01a-1ead1e9ee0c2",
   "metadata": {},
   "outputs": [],
   "source": []
  },
  {
   "cell_type": "markdown",
   "id": "327a03dd-9dd3-4bef-90d8-ec71c89f94b1",
   "metadata": {},
   "source": [
    "# raodNet-CA"
   ]
  },
  {
   "cell_type": "code",
   "execution_count": null,
   "id": "dfb3bef9-56d5-4b13-a09e-d5b83d1797b3",
   "metadata": {},
   "outputs": [],
   "source": [
    "a = pd.read_csv('roadNet-CA.txt', sep='\\s+', header=None, skiprows=4, dtype=int).to_numpy()\n",
    "count = 0\n",
    "for edges in a:\n",
    "    count += 1\n",
    "    # g1.AddEdge(int(edges[0]), int(edges[1]))\n",
    "print(count)"
   ]
  },
  {
   "cell_type": "code",
   "execution_count": null,
   "id": "14b1676e",
   "metadata": {},
   "outputs": [],
   "source": []
  }
 ],
 "metadata": {
  "kernelspec": {
   "display_name": "Python 3 (ipykernel)",
   "language": "python",
   "name": "python3"
  },
  "language_info": {
   "codemirror_mode": {
    "name": "ipython",
    "version": 3
   },
   "file_extension": ".py",
   "mimetype": "text/x-python",
   "name": "python",
   "nbconvert_exporter": "python",
   "pygments_lexer": "ipython3",
   "version": "3.8.15"
  }
 },
 "nbformat": 4,
 "nbformat_minor": 5
}
