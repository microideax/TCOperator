{
 "cells": [
  {
   "cell_type": "code",
   "execution_count": 1,
   "id": "b2dd8321",
   "metadata": {},
   "outputs": [],
   "source": [
    "import networkx as nx\n",
    "import numpy as np\n",
    "import pandas as pd\n",
    "from scipy import sparse\n",
    "from scipy.sparse import csr_matrix\n",
    "from scipy.sparse import coo_matrix\n",
    "from time import perf_counter"
   ]
  },
  {
   "cell_type": "code",
   "execution_count": 2,
   "id": "8f83d2eb",
   "metadata": {},
   "outputs": [],
   "source": [
    "filename = './datasets/partitionTest.txt'"
   ]
  },
  {
   "cell_type": "code",
   "execution_count": 3,
   "id": "92a64961",
   "metadata": {},
   "outputs": [],
   "source": [
    "t0 = perf_counter()\n",
    "testgraph = nx.read_edgelist(filename, comments='#', delimiter=None, create_using=None, nodetype=None, data=True, edgetype=None, encoding='utf-8')\n",
    "t_load = perf_counter() - t0"
   ]
  },
  {
   "cell_type": "code",
   "execution_count": 4,
   "id": "01b178e3",
   "metadata": {},
   "outputs": [
    {
     "name": "stdout",
     "output_type": "stream",
     "text": [
      "3\n"
     ]
    }
   ],
   "source": [
    "print(int(sum(nx.triangles(testgraph).values())/3))"
   ]
  },
  {
   "cell_type": "code",
   "execution_count": 5,
   "id": "de734481",
   "metadata": {},
   "outputs": [
    {
     "name": "stdout",
     "output_type": "stream",
     "text": [
      "(6, 6)\n"
     ]
    },
    {
     "name": "stderr",
     "output_type": "stream",
     "text": [
      "/tmp/ipykernel_775032/1967707738.py:1: FutureWarning: adjacency_matrix will return a scipy.sparse array instead of a matrix in Networkx 3.0.\n",
      "  full_adj = nx.adjacency_matrix(testgraph)\n"
     ]
    }
   ],
   "source": [
    "full_adj = nx.adjacency_matrix(testgraph)\n",
    "print(full_adj.shape)"
   ]
  },
  {
   "cell_type": "code",
   "execution_count": 6,
   "id": "73bbec77",
   "metadata": {},
   "outputs": [],
   "source": [
    "full_adj_dense = full_adj.todense()\n",
    "#print(full_adj_dense.shape)"
   ]
  },
  {
   "cell_type": "code",
   "execution_count": 7,
   "id": "70607afa",
   "metadata": {},
   "outputs": [],
   "source": [
    "#print(full_adj_dense)"
   ]
  },
  {
   "cell_type": "code",
   "execution_count": 8,
   "id": "a10e511d",
   "metadata": {},
   "outputs": [],
   "source": [
    "# for i in range(0, full_adj_dense.shape[0]):\n",
    "#     for j in range(0, full_adj_dense.shape[1]):\n",
    "#         if i >= j:\n",
    "#             full_adj_dense[i, j] = 0"
   ]
  },
  {
   "cell_type": "code",
   "execution_count": 9,
   "id": "f10b1f6a",
   "metadata": {},
   "outputs": [],
   "source": [
    "#print(full_adj_dense)"
   ]
  },
  {
   "cell_type": "code",
   "execution_count": 10,
   "id": "b63a935c",
   "metadata": {},
   "outputs": [
    {
     "name": "stdout",
     "output_type": "stream",
     "text": [
      "6 3\n",
      "(6, 3)\n"
     ]
    }
   ],
   "source": [
    "part_1_adj = full_adj_dense[:, 0:int(full_adj_dense.shape[1]/2)]\n",
    "part_2_adj = full_adj_dense[:, int(full_adj_dense.shape[1]/2):full_adj_dense.shape[1]]\n",
    "print(part_1_adj.shape[0], part_1_adj.shape[1])\n",
    "print(part_2_adj.shape)"
   ]
  },
  {
   "cell_type": "code",
   "execution_count": 11,
   "id": "669a7dd1",
   "metadata": {},
   "outputs": [
    {
     "name": "stdout",
     "output_type": "stream",
     "text": [
      "(6, 6)\n",
      "(6, 6)\n"
     ]
    }
   ],
   "source": [
    "part_1_matrix = np.zeros((full_adj.shape))\n",
    "part_2_matrix = np.zeros((full_adj.shape))\n",
    "print(part_1_matrix.shape)\n",
    "print(part_2_matrix.shape)"
   ]
  },
  {
   "cell_type": "code",
   "execution_count": 12,
   "id": "3c8abdd2",
   "metadata": {},
   "outputs": [],
   "source": [
    "for i in range (0, part_1_adj.shape[0]):\n",
    "    for j in range(0, part_1_adj.shape[1]):\n",
    "        part_1_matrix[i,j] = part_1_adj[i,j]\n",
    "        \n",
    "for i in range (0, part_2_adj.shape[0]):\n",
    "    for j in range(0, part_2_adj.shape[1]):\n",
    "        part_2_matrix[i, j+int(full_adj_dense.shape[1]/2)] = part_2_adj[i,j]"
   ]
  },
  {
   "cell_type": "code",
   "execution_count": 13,
   "id": "4d06c478",
   "metadata": {},
   "outputs": [],
   "source": [
    "#print(part_1_matrix)\n",
    "#print(part_2_matrix)"
   ]
  },
  {
   "cell_type": "code",
   "execution_count": 14,
   "id": "8477149c",
   "metadata": {},
   "outputs": [],
   "source": [
    "part_1_graph = nx.from_numpy_matrix(part_1_matrix)\n",
    "part_2_graph = nx.from_numpy_matrix(part_2_matrix)"
   ]
  },
  {
   "cell_type": "code",
   "execution_count": 19,
   "id": "b5feead2",
   "metadata": {},
   "outputs": [
    {
     "name": "stdout",
     "output_type": "stream",
     "text": [
      "('0', '1')\n",
      "{1: {'weight': 1.0}, 2: {'weight': 1.0}, 3: {'weight': 1.0}}\n",
      "{0: {'weight': 1.0}, 4: {'weight': 1.0}}\n",
      "('0', '2')\n",
      "{1: {'weight': 1.0}, 2: {'weight': 1.0}, 3: {'weight': 1.0}}\n",
      "{0: {'weight': 1.0}, 3: {'weight': 1.0}, 5: {'weight': 1.0}}\n",
      "('0', '3')\n",
      "{1: {'weight': 1.0}, 2: {'weight': 1.0}, 3: {'weight': 1.0}}\n",
      "{0: {'weight': 1.0}, 2: {'weight': 1.0}}\n",
      "('1', '4')\n",
      "{0: {'weight': 1.0}, 4: {'weight': 1.0}}\n",
      "{1: {'weight': 1.0}}\n",
      "('2', '3')\n",
      "{0: {'weight': 1.0}, 3: {'weight': 1.0}, 5: {'weight': 1.0}}\n",
      "{0: {'weight': 1.0}, 2: {'weight': 1.0}}\n",
      "('2', '5')\n",
      "{0: {'weight': 1.0}, 3: {'weight': 1.0}, 5: {'weight': 1.0}}\n",
      "{2: {'weight': 1.0}}\n",
      "('3', '4')\n",
      "{0: {'weight': 1.0}, 2: {'weight': 1.0}}\n",
      "{1: {'weight': 1.0}}\n",
      "('3', '5')\n",
      "{0: {'weight': 1.0}, 2: {'weight': 1.0}}\n",
      "{2: {'weight': 1.0}}\n",
      "('4', '5')\n",
      "{1: {'weight': 1.0}}\n",
      "{2: {'weight': 1.0}}\n"
     ]
    }
   ],
   "source": [
    "count = 0\n",
    "for edgelist in testgraph.edges:\n",
    "#     if count == 0:\n",
    "    print(edgelist)\n",
    "    print(part_1_graph.adj[int(edgelist[0])])\n",
    "    print(part_1_graph.adj[int(edgelist[1])])\n",
    "#         count+=1"
   ]
  },
  {
   "cell_type": "code",
   "execution_count": null,
   "id": "284a249f",
   "metadata": {},
   "outputs": [],
   "source": [
    "def list_set_intersection (list_first, list_second) :\n",
    "    ## this method is too slow\n",
    "    ## for i in range(len(list_first)):\n",
    "        ## count += list_first[i] & list_second[i]\n",
    "    ## print(count)\n",
    "    count = np.bincount(list_first + list_second)\n",
    "    ## print(count)\n",
    "    if (len(count) == 3):\n",
    "        return count[2]\n",
    "    else :\n",
    "        return 0"
   ]
  },
  {
   "cell_type": "code",
   "execution_count": 16,
   "id": "adba45c9",
   "metadata": {},
   "outputs": [
    {
     "name": "stdout",
     "output_type": "stream",
     "text": [
      "part_1 triangles:  1\n"
     ]
    }
   ],
   "source": [
    "count = 0\n",
    "triangle = []\n",
    "for edge_list in testgraph.edges:\n",
    "#     if int(edge_list[1]) < 2000:\n",
    "    srcSet = part_1_graph.adj[int(edge_list[0])]\n",
    "    dstSet = part_1_graph.adj[int(edge_list[1])]\n",
    "    for vertexID in dstSet:\n",
    "        if (vertexID in srcSet) and (vertexID > int(edge_list[1])):\n",
    "            count += 1\n",
    "            triangle.append((edge_list[0], edge_list[1], vertexID))\n",
    "print(\"part_1 triangles: \", count) "
   ]
  },
  {
   "cell_type": "code",
   "execution_count": 17,
   "id": "a8197331",
   "metadata": {},
   "outputs": [
    {
     "name": "stdout",
     "output_type": "stream",
     "text": [
      "part_2 triangles:  3\n",
      "Triangles in total: 4\n"
     ]
    }
   ],
   "source": [
    "count_1 = 0\n",
    "triangle_1 = []\n",
    "for edge_list in testgraph.edges:\n",
    "#     if int(edge_list[1]) >= 2000:\n",
    "    srcSet = part_2_graph.adj[int(edge_list[0])]\n",
    "    dstSet = part_2_graph.adj[int(edge_list[1])]\n",
    "    for vertexID in dstSet:\n",
    "        if (vertexID in srcSet) and (vertexID > int(edge_list[1])):\n",
    "            count_1 += 1\n",
    "            triangle_1.append((edge_list[0], edge_list[1], vertexID))\n",
    "print(\"part_2 triangles: \", count_1)\n",
    "print(\"Triangles in total:\", count + count_1)"
   ]
  },
  {
   "cell_type": "code",
   "execution_count": null,
   "id": "9f858608",
   "metadata": {},
   "outputs": [],
   "source": []
  }
 ],
 "metadata": {
  "kernelspec": {
   "display_name": "Python 3 (ipykernel)",
   "language": "python",
   "name": "python3"
  },
  "language_info": {
   "codemirror_mode": {
    "name": "ipython",
    "version": 3
   },
   "file_extension": ".py",
   "mimetype": "text/x-python",
   "name": "python",
   "nbconvert_exporter": "python",
   "pygments_lexer": "ipython3",
   "version": "3.8.15"
  }
 },
 "nbformat": 4,
 "nbformat_minor": 5
}
