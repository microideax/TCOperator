{
 "cells": [
  {
   "cell_type": "code",
   "execution_count": 1,
   "id": "7f4dbad9-5991-426e-9ab7-470119b1a949",
   "metadata": {},
   "outputs": [],
   "source": [
    "import networkx as nx\n",
    "import numpy as np\n",
    "import pandas as pd\n",
    "from scipy import sparse\n",
    "from scipy.sparse import csr_matrix\n",
    "from scipy.sparse import coo_matrix\n",
    "from time import perf_counter"
   ]
  },
  {
   "cell_type": "markdown",
   "id": "3ee88edc-6328-4557-b9ef-fa1c614ab2f7",
   "metadata": {},
   "source": [
    "# Load edgelist file and count triangles with matix mul operation"
   ]
  },
  {
   "cell_type": "code",
   "execution_count": 2,
   "id": "d81eca06-caa9-4945-b4d7-a891b133ce75",
   "metadata": {},
   "outputs": [],
   "source": [
    "filename = './datasets/as-skitter.txt'"
   ]
  },
  {
   "cell_type": "code",
   "execution_count": 3,
   "id": "6f428cda-41fe-4f5e-b181-605ec37f2ff2",
   "metadata": {},
   "outputs": [],
   "source": [
    "t0 = perf_counter()\n",
    "testgraph = nx.read_edgelist(filename, comments='#', delimiter=None, create_using=None, nodetype=None, data=True, edgetype=None, encoding='utf-8')\n",
    "testgraph.remove_edges_from(nx.selfloop_edges(testgraph))\n",
    "t_read = perf_counter() - t0"
   ]
  },
  {
   "cell_type": "code",
   "execution_count": 4,
   "id": "4633c813-0279-493b-bdab-34e1ace89833",
   "metadata": {},
   "outputs": [
    {
     "name": "stderr",
     "output_type": "stream",
     "text": [
      "/tmp/ipykernel_3651887/2236352137.py:2: FutureWarning: adjacency_matrix will return a scipy.sparse array instead of a matrix in Networkx 3.0.\n",
      "  adjMtx = nx.adjacency_matrix(testgraph)\n"
     ]
    },
    {
     "name": "stdout",
     "output_type": "stream",
     "text": [
      "(1696415, 1696415)\n"
     ]
    },
    {
     "name": "stderr",
     "output_type": "stream",
     "text": [
      "/tmp/ipykernel_3651887/2236352137.py:4: FutureWarning: incidence_matrix will return a scipy.sparse array instead of a matrix in Networkx 3.0.\n",
      "  incMtx = nx.incidence_matrix(testgraph)\n"
     ]
    },
    {
     "name": "stdout",
     "output_type": "stream",
     "text": [
      "(1696415, 11095298)\n"
     ]
    }
   ],
   "source": [
    "t1 = perf_counter()\n",
    "adjMtx = nx.adjacency_matrix(testgraph)\n",
    "print(adjMtx.shape)\n",
    "incMtx = nx.incidence_matrix(testgraph)\n",
    "print(incMtx.shape)\n",
    "t_pre = perf_counter() - t1"
   ]
  },
  {
   "cell_type": "code",
   "execution_count": 5,
   "id": "f8d4c0c7-9561-4f26-9864-5cfd651cb0cf",
   "metadata": {},
   "outputs": [],
   "source": [
    "t2 = perf_counter()\n",
    "# adjMtx = adjMtx\n",
    "# print(adjMtx.shape, incMtx.shape)\n",
    "c = adjMtx.dot(incMtx)\n",
    "# c = adjMtx * adjMtx * adjMtx\n",
    "# print(c.shape)"
   ]
  },
  {
   "cell_type": "code",
   "execution_count": 6,
   "id": "ea62a85b",
   "metadata": {},
   "outputs": [],
   "source": [
    "d = (c==2)"
   ]
  },
  {
   "cell_type": "code",
   "execution_count": 7,
   "id": "ad6ca20e",
   "metadata": {},
   "outputs": [],
   "source": [
    "num_triangles_3 = d.nnz"
   ]
  },
  {
   "cell_type": "code",
   "execution_count": 8,
   "id": "c6b91951",
   "metadata": {},
   "outputs": [],
   "source": [
    "num_triangles = num_triangles_3/3"
   ]
  },
  {
   "cell_type": "code",
   "execution_count": 9,
   "id": "ca5d3ba3",
   "metadata": {},
   "outputs": [
    {
     "name": "stdout",
     "output_type": "stream",
     "text": [
      "./datasets/as-skitter.txt\n",
      "Counted num_triangles:  28769868.0\n",
      "Load file time:  33.8611351614818  (s)\n",
      "Preprocess time:  99.82358432933688  (s)\n",
      "Processing time:  3585.3751606540754  (s)\n"
     ]
    }
   ],
   "source": [
    "# num_triangles = (c==2).nnz/3\n",
    "# A = adjMtx.dot(adjMtx.dot(adjMtx))\n",
    "# print(\"Finished A matrix\")\n",
    "# C = 0\n",
    "# for i in range (0, adjMtx.shape[0]):\n",
    "#     for j in range(0, adjMtx.shape[0]):\n",
    "#         C += A[i,j]\n",
    "# print(\"Finished traversing A\")        \n",
    "# num_triangles = (A==1).nnz/3\n",
    "        \n",
    "t_pro = perf_counter() - t2\n",
    "print(str(filename))\n",
    "print('Counted num_triangles: ', num_triangles)\n",
    "print('Load file time: ', t_read, \" (s)\")\n",
    "print('Preprocess time: ', t_pre, \" (s)\")\n",
    "print('Processing time: ', t_pro, \" (s)\")"
   ]
  },
  {
   "cell_type": "raw",
   "id": "5b6afb44",
   "metadata": {},
   "source": [
    "./datasets/as-skitter.txt\n",
    "Counted num_triangles:  28769868.0\n",
    "Load file time:  33.8611351614818  (s)\n",
    "Preprocess time:  99.82358432933688  (s)\n",
    "Processing time:  3585.3751606540754  (s)"
   ]
  },
  {
   "cell_type": "raw",
   "id": "89871190",
   "metadata": {},
   "source": [
    "./datasets/cit-Patents.txt\n",
    "Countednum_triangles:  7515024.0\n",
    "Load file time:  84.0882274149917  (s)\n",
    "Preprocess time:  354.08454330964014  (s)\n",
    "Processing time:  86.72595779411495  (s)"
   ]
  },
  {
   "cell_type": "raw",
   "id": "ef4acd34",
   "metadata": {},
   "source": [
    "./datasets/soc-LiveJournal1.txt\n",
    "Counted num_triangles:  285730264.0\n",
    "Load file time:  214.83346870122477  (s)\n",
    "Preprocess time:  493.5102435420267  (s)\n",
    "Processing time:  1099.4196839476936  (s)"
   ]
  },
  {
   "cell_type": "code",
   "execution_count": null,
   "id": "612b0b79-9485-4df6-bf8d-b4b475bf314a",
   "metadata": {},
   "outputs": [],
   "source": [
    "t_nx_0 = perf_counter()\n",
    "nxtris = nx.triangles(testgraph)\n",
    "t_nx_tris = perf_counter() - t_nx_0\n",
    "print(sum(nxtris.values())/3)\n",
    "print('Processing time: ', t_nx_tris)"
   ]
  },
  {
   "cell_type": "code",
   "execution_count": null,
   "id": "89bf455a",
   "metadata": {},
   "outputs": [],
   "source": [
    "def tri_count(adjMat):\n",
    "    biAdjMat = adjMat.dot(adjMat)\n",
    "    countIntersect = adjMat.multiply(biAdjMat)\n",
    "    return countIntersect.nnz"
   ]
  },
  {
   "cell_type": "code",
   "execution_count": null,
   "id": "c887860c",
   "metadata": {},
   "outputs": [],
   "source": [
    "tri_num = tri_count(adjMtx)\n",
    "print(tri_num)"
   ]
  },
  {
   "cell_type": "code",
   "execution_count": null,
   "id": "49feb44f",
   "metadata": {},
   "outputs": [],
   "source": [
    "print(tri_num)"
   ]
  },
  {
   "cell_type": "code",
   "execution_count": null,
   "id": "a2cd6db3",
   "metadata": {},
   "outputs": [],
   "source": []
  }
 ],
 "metadata": {
  "kernelspec": {
   "display_name": "Python 3 (ipykernel)",
   "language": "python",
   "name": "python3"
  },
  "language_info": {
   "codemirror_mode": {
    "name": "ipython",
    "version": 3
   },
   "file_extension": ".py",
   "mimetype": "text/x-python",
   "name": "python",
   "nbconvert_exporter": "python",
   "pygments_lexer": "ipython3",
   "version": "3.8.15"
  }
 },
 "nbformat": 4,
 "nbformat_minor": 5
}
